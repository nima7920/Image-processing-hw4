{
 "cells": [
  {
   "cell_type": "markdown",
   "metadata": {
    "collapsed": true,
    "pycharm": {
     "name": "#%% md\n"
    }
   },
   "source": [
    "## Question 3: SLIC"
   ]
  },
  {
   "cell_type": "markdown",
   "source": [
    "In this question, we implement SLIC method for segmenting a given\n",
    "image. Functions used for applying SLIC are implemented in `q3_funcs.py`, and\n",
    "main code that uses these functions to perform segmentation is in `q3.py`"
   ],
   "metadata": {
    "collapsed": false
   }
  },
  {
   "cell_type": "markdown",
   "source": [
    "### q3_funcs.py\n",
    "\n",
    "The first function implemented in this file is\n",
    "`get_feature_vectors`, which takes an image as input and\n",
    "outputs Lab and XY feature vectors corresponding to it:"
   ],
   "metadata": {
    "collapsed": false
   }
  },
  {
   "cell_type": "code",
   "execution_count": null,
   "outputs": [],
   "source": [
    "import matplotlib.pyplot as plt\n",
    "import numpy as np\n",
    "import cv2\n",
    "from scipy.signal import medfilt\n",
    "\n",
    "\n",
    "def get_feature_vectors(img):\n",
    "    lab_vectors = cv2.cvtColor(img, cv2.COLOR_BGR2Lab)\n",
    "    xy_vectors = np.zeros((img.shape[0], img.shape[1], 2))\n",
    "    for i in range(img.shape[0]):\n",
    "        xy_vectors[i, :, 0] = i\n",
    "    for j in range(img.shape[1]):\n",
    "        xy_vectors[:, j, 1] = j\n",
    "\n",
    "    return lab_vectors, xy_vectors\n",
    "\n"
   ],
   "metadata": {
    "collapsed": false,
    "pycharm": {
     "name": "#%%\n"
    }
   }
  },
  {
   "cell_type": "markdown",
   "source": [
    "Next function computes the gradient of the image, which is used to\n",
    " perturb cluster centers :"
   ],
   "metadata": {
    "collapsed": false
   }
  },
  {
   "cell_type": "code",
   "execution_count": null,
   "outputs": [],
   "source": [
    "def get_img_gradients(img):\n",
    "    img_gray = cv2.cvtColor(img, cv2.COLOR_BGR2GRAY)\n",
    "    x_derivative = img_gray - np.roll(img_gray, 1, axis=0)\n",
    "    y_derivative = img_gray - np.roll(img_gray, 1, axis=1)\n",
    "    result = -np.sqrt(np.square(x_derivative) + np.square(y_derivative))\n",
    "    return result\n"
   ],
   "metadata": {
    "collapsed": false,
    "pycharm": {
     "name": "#%%\n"
    }
   }
  },
  {
   "cell_type": "markdown",
   "source": [
    "Function `perturb_centers` takes cluster centers, image gradients and an integer\n",
    " perturb radius, and moves each center to a pixel around it with minimum gradient :"
   ],
   "metadata": {
    "collapsed": false
   }
  },
  {
   "cell_type": "code",
   "execution_count": null,
   "outputs": [],
   "source": [
    "def perturb_centers(img, img_grads, centers, perturb_radius):\n",
    "    result = centers.copy()\n",
    "    for i in range(centers.shape[0]):\n",
    "        for j in range(centers.shape[1]):\n",
    "            x, y = centers[i, j, 0], centers[i, j, 1]\n",
    "            area = img_grads[x - perturb_radius: x + perturb_radius, y - perturb_radius: y + perturb_radius]\n",
    "            m = np.min(area)\n",
    "            mask = np.where(area == m)\n",
    "            result[i, j, 0], result[i, j, 1] = mask[0][0] + x - perturb_radius, mask[1][0] + y - perturb_radius\n",
    "    return result\n",
    "\n"
   ],
   "metadata": {
    "collapsed": false,
    "pycharm": {
     "name": "#%%\n"
    }
   }
  },
  {
   "cell_type": "markdown",
   "source": [
    "Next function is `initialize_cluster_centers`, which uses the above functions and a given number of clusters to\n",
    "create an array containing the locations of the initial cluster centers:"
   ],
   "metadata": {
    "collapsed": false
   }
  },
  {
   "cell_type": "code",
   "execution_count": null,
   "outputs": [],
   "source": [
    "def initialize_cluster_centers(img, img_grads, num_of_centers, perturb_radius):\n",
    "    h, w = img.shape[0], img.shape[1]\n",
    "    s = int(np.sqrt(h * w / num_of_centers) / 2)\n",
    "    m, n = int(np.round(h / (2 * s))), int(np.round(w / (2 * s)))\n",
    "    centers = np.zeros((m, n, 2), dtype='int')\n",
    "    for i in range(m):\n",
    "        for j in range(n):\n",
    "            centers[i, j, 0] = int(s * (2 * i + 1))\n",
    "            centers[i, j, 1] = int(s * (2 * j + 1))\n",
    "\n",
    "    return perturb_centers(img, img_grads, centers, perturb_radius)\n"
   ],
   "metadata": {
    "collapsed": false,
    "pycharm": {
     "name": "#%%\n"
    }
   }
  },
  {
   "cell_type": "markdown",
   "source": [
    "Now that we have our initial centers, we can use them to cluster the image.\n",
    "Function `find_closest_center` finds the closest center to a given pixel by getting:\n",
    "<ul>\n",
    "<li>\n",
    "i,j : position of the pixel in image\n",
    "<li>\n",
    "centers: an array containing the position of centers\n",
    "<li>\n",
    "r,s : indices of the nearest cluster center on the bottom right of the pixel, in centers\n",
    "array.\n",
    "<li>\n",
    "lab_vectors,xy_vectors,alpha : Feature vectors and parameters used for computing the difference between the pixel and a cluster center.\n",
    "</ul>\n",
    " and outputing two integers , indicating the indices of the closest center to the pixel in centers array."
   ],
   "metadata": {
    "collapsed": false,
    "pycharm": {
     "name": "#%% md\n"
    }
   }
  },
  {
   "cell_type": "code",
   "execution_count": null,
   "outputs": [],
   "source": [
    "def find_closest_center(i, j, centers, r, s, lab_vectors, xy_vectors, alpha):\n",
    "    m, n = centers.shape[0], centers.shape[1]\n",
    "    if r == 0 and s == 0:\n",
    "        return r, s\n",
    "    if r == 0 and s == n:\n",
    "        return r, s - 1\n",
    "    if r == m and s == 0:\n",
    "        return r - 1, s\n",
    "    if r == m and s == n:\n",
    "        # print(r, s)\n",
    "        return r - 1, s - 1\n",
    "\n",
    "    d_lab = np.ones((3, 4))\n",
    "    d_xy = np.ones((2, 4))\n",
    "    d_lab_ij = lab_vectors[i, j, :].reshape((3, 1))\n",
    "    d_xy_ij = xy_vectors[i, j].reshape((2, 1))\n",
    "    if r == 0:\n",
    "        result_centers = np.asarray([[r, s], [r, s - 1]])\n",
    "        d_lab[:, ::2] = d_lab[:, ::2] * lab_vectors[centers[r, s, 0], centers[r, s, 1]].reshape((3, 1))\n",
    "        d_lab[:, 1::2] = d_lab[:, 1::2] * lab_vectors[centers[r, s - 1, 0], centers[r, s - 1, 1]].reshape((3, 1))\n",
    "        d_xy[:, ::2] = d_xy[:, ::2] * xy_vectors[centers[r, s, 0], centers[r, s, 1]].reshape((2, 1))\n",
    "        d_xy[:, 1::2] = d_xy[:, 1::2] * xy_vectors[centers[r, s - 1, 0], centers[r, s - 1, 1]].reshape((2, 1))\n",
    "        d1 = np.sum(np.square(d_lab - d_lab_ij), axis=0)\n",
    "        d2 = np.multiply(np.sum(np.square(d_xy - d_xy_ij), axis=0), alpha)\n",
    "        d = np.add(d1, d2)\n",
    "        t = np.argmin(d)\n",
    "        return result_centers[t]\n",
    "    if r == m:\n",
    "        result_centers = np.asarray([[r - 1, s], [r - 1, s - 1]])\n",
    "        d_lab[:, ::2] = d_lab[:, ::2] * lab_vectors[centers[r - 1, s, 0], centers[r - 1, s, 1]].reshape((3, 1))\n",
    "        d_lab[:, 1::2] = d_lab[:, 1::2] * lab_vectors[centers[r - 1, s - 1, 0], centers[r - 1, s - 1, 1]].reshape(\n",
    "            (3, 1))\n",
    "        d_xy[:, ::2] = d_xy[:, ::2] * xy_vectors[centers[r - 1, s, 0], centers[r - 1, s, 1]].reshape((2, 1))\n",
    "        d_xy[:, 1::2] = d_xy[:, 1::2] * xy_vectors[centers[r - 1, s - 1, 0], centers[r - 1, s - 1, 1]].reshape((2, 1))\n",
    "        d1 = np.sum(np.square(d_lab - d_lab_ij), axis=0)\n",
    "        d2 = np.multiply(np.sum(np.square(d_xy - d_xy_ij), axis=0), alpha)\n",
    "        d = np.add(d1, d2)\n",
    "        t = np.argmin(d)\n",
    "        return result_centers[t]\n",
    "    if s == 0:\n",
    "        result_centers = np.asarray([[r, s], [r - 1, s]])\n",
    "        d_lab[:, ::2] = d_lab[:, ::2] * lab_vectors[centers[r, s, 0], centers[r, s, 1]].reshape((3, 1))\n",
    "        d_lab[:, 1::2] = d_lab[:, 1::2] * lab_vectors[centers[r - 1, s, 0], centers[r - 1, s, 1]].reshape((3, 1))\n",
    "        d_xy[:, ::2] = d_xy[:, ::2] * xy_vectors[centers[r, s, 0], centers[r, s, 1]].reshape((2, 1))\n",
    "        d_xy[:, 1::2] = d_xy[:, 1::2] * xy_vectors[centers[r - 1, s, 0], centers[r - 1, s, 1]].reshape((2, 1))\n",
    "        d1 = np.sum(np.square(d_lab - d_lab_ij), axis=0)\n",
    "        d2 = np.multiply(np.sum(np.square(d_xy - d_xy_ij), axis=0), alpha)\n",
    "        d = np.add(d1, d2)\n",
    "        t = np.argmin(d)\n",
    "        return result_centers[t]\n",
    "\n",
    "    if s == n:\n",
    "        result_centers = np.asarray([[r, s - 1], [r - 1, s - 1]])\n",
    "        d_lab[:, ::2] = d_lab[:, ::2] * lab_vectors[centers[r, s - 1, 0], centers[r, s - 1, 1]].reshape((3, 1))\n",
    "        d_lab[:, 1::2] = d_lab[:, 1::2] * lab_vectors[centers[r - 1, s - 1, 0], centers[r - 1, s - 1, 1]].reshape(\n",
    "            (3, 1))\n",
    "        d_xy[:, ::2] = d_xy[:, ::2] * xy_vectors[centers[r, s - 1, 0], centers[r, s - 1, 1]].reshape((2, 1))\n",
    "        d_xy[:, 1::2] = d_xy[:, 1::2] * xy_vectors[centers[r - 1, s - 1, 0], centers[r - 1, s - 1, 1]].reshape((2, 1))\n",
    "        d1 = np.sum(np.square(d_lab - d_lab_ij), axis=0)\n",
    "        d2 = np.multiply(np.sum(np.square(d_xy - d_xy_ij), axis=0), alpha)\n",
    "        d = np.add(d1, d2)\n",
    "        t = np.argmin(d)\n",
    "        return result_centers[t]\n",
    "    result_centers = np.asarray([[r - 1, s - 1], [r - 1, s], [r, s], [r, s - 1]])\n",
    "    d_lab[:, 0] = lab_vectors[centers[r - 1, s - 1, 0], centers[r - 1, s - 1, 1]]\n",
    "    d_lab[:, 1] = lab_vectors[centers[r - 1, s, 0], centers[r - 1, s, 1]]\n",
    "    d_lab[:, 2] = lab_vectors[centers[r, s, 0], centers[r, s, 1]]\n",
    "    d_lab[:, 3] = lab_vectors[centers[r, s - 1, 0], centers[r, s - 1, 1]]\n",
    "    d_xy[:, 0] = xy_vectors[centers[r - 1, s - 1, 0], centers[r - 1, s - 1, 1]]\n",
    "    d_xy[:, 1] = xy_vectors[centers[r - 1, s, 0], centers[r - 1, s, 1]]\n",
    "    d_xy[:, 2] = xy_vectors[centers[r, s, 0], centers[r, s, 1]]\n",
    "    d_xy[:, 3] = xy_vectors[centers[r, s - 1, 0], centers[r, s - 1, 1]]\n",
    "    d1 = np.sum(np.square(d_lab - d_lab_ij), axis=0)\n",
    "    d2 = np.multiply(np.sum(np.square(d_xy - d_xy_ij), axis=0), alpha)\n",
    "    d = np.add(d1, d2)\n",
    "    t = np.argmin(d)\n",
    "    return result_centers[t]"
   ],
   "metadata": {
    "collapsed": false,
    "pycharm": {
     "name": "#%%\n"
    }
   }
  },
  {
   "cell_type": "markdown",
   "source": [
    "Main function of this file is `cluster_pixels` , which performs segmentation by getting\n",
    "<ul>\n",
    "<li>\n",
    "image\n",
    "<li>\n",
    "centers\n",
    "<li>\n",
    "Feature vectors and value alpha\n",
    "<li> an integer indicating the number of iterations\n",
    "</ul>\n",
    " and outputs an array name labels, with the same size as image, containing the label of each pixel in segmentation"
   ],
   "metadata": {
    "collapsed": false
   }
  },
  {
   "cell_type": "code",
   "execution_count": null,
   "outputs": [],
   "source": [
    "def cluster_pixels(img, centers, lab_vectors, xy_vectors, alpha, num_of_iterations=7):\n",
    "    h, w = img.shape[0], img.shape[1]\n",
    "    labels = np.zeros((h, w), dtype='int')\n",
    "    a1, b1 = centers.shape[0], centers.shape[1]\n",
    "    for t in range(num_of_iterations):\n",
    "        r, s = 0, 0\n",
    "        for i in range(h):\n",
    "            for j in range(w):\n",
    "                if s < centers.shape[1] and j > centers[\n",
    "                    min(r, centers.shape[0] - 1), s, 1]:  # update close cluster point\n",
    "                    s += 1\n",
    "                a2, b2 = find_closest_center(i, j, centers, r, s, lab_vectors, xy_vectors, alpha)\n",
    "                labels[i, j] = b1 * a2 + b2\n",
    "\n",
    "            s = 0\n",
    "            if r < centers.shape[0] and i > centers[r, s, 0]:\n",
    "                r += 1\n",
    "        centers2 = update_centers(labels, centers)\n",
    "        threshold = np.sqrt(np.sum(np.square(centers2 - centers)))\n",
    "        print(threshold)\n",
    "        centers = centers2\n",
    "    # plt.imshow(labels, cmap='gray')\n",
    "    # plt.show()\n",
    "\n",
    "    return labels\n"
   ],
   "metadata": {
    "collapsed": false,
    "pycharm": {
     "name": "#%%\n"
    }
   }
  },
  {
   "cell_type": "markdown",
   "source": [
    "Next function is used to update cluster centers after each iteration, from the resulting labels.\n",
    "We replace each center with the average of the pixels lying in its cluster:"
   ],
   "metadata": {
    "collapsed": false
   }
  },
  {
   "cell_type": "code",
   "execution_count": null,
   "outputs": [],
   "source": [
    "def update_centers(labels, centers):\n",
    "    result_centers = np.zeros(centers.shape, dtype='int')\n",
    "    t = 0\n",
    "    for i in range(centers.shape[0]):\n",
    "        for j in range(centers.shape[1]):\n",
    "            mask = np.where(labels == t)\n",
    "            if mask[0].size > 0:\n",
    "                center = [int(np.average(mask[0])), int(np.average(mask[1]))]\n",
    "                result_centers[i, j, 0] = center[0]\n",
    "                result_centers[i, j, 1] = center[1]\n",
    "            else:\n",
    "                result_centers[i, j, 0] = centers[i, j, 0]\n",
    "                result_centers[i, j, 1] = centers[i, j, 1]\n",
    "            t += 1\n",
    "    result_centers = np.asarray(result_centers)\n",
    "    return result_centers"
   ],
   "metadata": {
    "collapsed": false,
    "pycharm": {
     "name": "#%%\n"
    }
   }
  },
  {
   "cell_type": "markdown",
   "source": [
    "Function `remove_noise` uses median filtering on labels to remove possible noises from result. It takes labels and\n",
    "an integer num_of_iterations and applies median filter on labels num_of_iterations times:"
   ],
   "metadata": {
    "collapsed": false
   }
  },
  {
   "cell_type": "code",
   "execution_count": null,
   "outputs": [],
   "source": [
    "def remove_noise(labels, num_of_iterations):  # applies median filter to remove noise\n",
    "    result = labels.copy().astype('int16')\n",
    "    for i in range(num_of_iterations):\n",
    "        result = medfilt(result, 3)\n",
    "    return result\n"
   ],
   "metadata": {
    "collapsed": false,
    "pycharm": {
     "name": "#%%\n"
    }
   }
  },
  {
   "cell_type": "markdown",
   "source": [
    "Finally, function `generate_result_img` takes image and labels, and draws segments on the image. It first finds the edges of the\n",
    "labels by taking derivatives from it and them makes the pixels in the image, which correspond to edge pixels in label, black"
   ],
   "metadata": {
    "collapsed": false
   }
  },
  {
   "cell_type": "code",
   "execution_count": null,
   "outputs": [],
   "source": [
    "def generate_result_img(img, labels):\n",
    "    x_segments = np.where((labels - np.roll(labels, 1, axis=0)) != 0)\n",
    "    y_segments = np.where((labels - np.roll(labels, 1, axis=1)) != 0)\n",
    "    result = img.copy()\n",
    "    result[x_segments] = 0\n",
    "    result[y_segments] = 0\n",
    "    return result"
   ],
   "metadata": {
    "collapsed": false,
    "pycharm": {
     "name": "#%%\n"
    }
   }
  },
  {
   "cell_type": "markdown",
   "source": [
    "### q3.py\n",
    "\n",
    "Now that we have our functions implemented, we can use them to perform segmentation on the given image."
   ],
   "metadata": {
    "collapsed": false
   }
  },
  {
   "cell_type": "markdown",
   "source": [
    "In order to make the performance faster, we first resize the image by dividing each of its\n",
    "dimensions to 4, find labels in this dimension and then resize labels array to the shape of the original\n",
    "image, and finally, segment original image using the resulting labels:"
   ],
   "metadata": {
    "collapsed": false
   }
  },
  {
   "cell_type": "code",
   "execution_count": null,
   "outputs": [],
   "source": [
    "import q3_funcs\n",
    "import matplotlib.pyplot as plt\n",
    "import numpy as np\n",
    "import cv2\n",
    "\n",
    "input_path = \"inputs/slic.jpg\"\n",
    "output_paths = [\"outputs/res06.jpg\", \"outputs/res07.jpg\", \"outputs/res08.jpg\", \"outputs/res09.jpg\"]\n",
    "img = cv2.imread(input_path)\n",
    "\n",
    "shape = (img.shape[1], img.shape[0])\n",
    "img_resized = cv2.resize(img, (1008, 776))\n",
    "lab_vectors, xy_vectors = q3_funcs.get_feature_vectors(img_resized)\n",
    "img_grads = q3_funcs.get_img_gradients(img_resized)\n",
    "\n",
    "for i, n in enumerate([64, 256, 1024, 2048]):\n",
    "    centers = q3_funcs.initialize_cluster_centers(img_resized, img_grads, n, 5)\n",
    "    labels = q3_funcs.cluster_pixels(img_resized, centers, lab_vectors, xy_vectors, 0.5)\n",
    "    labels = q3_funcs.remove_noise(labels, 3)\n",
    "\n",
    "    labels = cv2.resize(labels, shape)\n",
    "    result = q3_funcs.generate_result_img(img, labels)\n",
    "    cv2.imwrite(output_paths[i], result)\n",
    "\n"
   ],
   "metadata": {
    "collapsed": false,
    "pycharm": {
     "name": "#%%\n"
    }
   }
  },
  {
   "cell_type": "markdown",
   "source": [
    "Performing segmentation on resized image doesn't make much difference from applying it\n",
    "on the original image.\n",
    "Also, value of alpha is set to 0.5 ( I have reached to this value by testing different alphas)\n"
   ],
   "metadata": {
    "collapsed": false
   }
  }
 ],
 "metadata": {
  "kernelspec": {
   "display_name": "Python 3",
   "language": "python",
   "name": "python3"
  },
  "language_info": {
   "codemirror_mode": {
    "name": "ipython",
    "version": 2
   },
   "file_extension": ".py",
   "mimetype": "text/x-python",
   "name": "python",
   "nbconvert_exporter": "python",
   "pygments_lexer": "ipython2",
   "version": "2.7.6"
  }
 },
 "nbformat": 4,
 "nbformat_minor": 0
}