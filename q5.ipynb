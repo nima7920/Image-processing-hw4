{
 "cells": [
  {
   "cell_type": "markdown",
   "metadata": {
    "collapsed": true,
    "pycharm": {
     "name": "#%% md\n"
    }
   },
   "source": [
    "## Question  5: Active contours\n",
    "Similar to the previous problems, code of the functions are written in\n",
    "`q5_funcs.py` and main code of the problem is in `q5.py`"
   ]
  },
  {
   "cell_type": "markdown",
   "source": [
    "### q5_funcs\n",
    "\n",
    "First function takes a contour ( contour is a list of points ) and an integer ratio, and expands contour by\n",
    "adding \"ratio\" number of points between each two consecutive points:"
   ],
   "metadata": {
    "collapsed": false
   }
  },
  {
   "cell_type": "code",
   "execution_count": null,
   "outputs": [],
   "source": [
    "import cv2\n",
    "import matplotlib.pyplot as plt\n",
    "import numpy as np\n",
    "import ffmpeg\n",
    "\n",
    "\n",
    "def expand_contour(contour, ratio):\n",
    "    result = []\n",
    "    for i, point in enumerate(contour):\n",
    "        point1 = contour[i]\n",
    "        x1, y1 = point1[0], point1[1]\n",
    "        print(\"point 1:\", x1, y1)\n",
    "        point2 = contour[i - 1]\n",
    "        x2, y2 = point2[0], point2[1]\n",
    "        print(\"point 2:\", x2, y2)\n",
    "        r, s = int((x1 - x2) / ratio), int((y1 - y2) / ratio)\n",
    "        print(\"r,s:\", r, s)\n",
    "        if r == 0 and s == 0:\n",
    "            result.append(point1)\n",
    "            continue\n",
    "        for j in range(ratio):\n",
    "            point3 = [x2 + j * r, y2 + j * s]\n",
    "            print(\"point 3:\", point3)\n",
    "            result.append(point3)\n",
    "        result.append(point1)\n",
    "        print(\"#############\")\n",
    "    return result\n"
   ],
   "metadata": {
    "collapsed": false,
    "pycharm": {
     "name": "#%%\n"
    }
   }
  },
  {
   "cell_type": "markdown",
   "source": [
    "Function `draw_contour` takes an image, a contour and a color as input and draws a contour with the given color on the image:"
   ],
   "metadata": {
    "collapsed": false
   }
  },
  {
   "cell_type": "code",
   "execution_count": null,
   "outputs": [],
   "source": [
    "def draw_contour(img, contour, color):\n",
    "    new_contour = np.roll(contour, 1, axis=1)\n",
    "    result = cv2.polylines(img.copy(), [new_contour], True, color, 1)\n",
    "    return result\n"
   ],
   "metadata": {
    "collapsed": false,
    "pycharm": {
     "name": "#%%\n"
    }
   }
  },
  {
   "cell_type": "markdown",
   "source": [
    "Function `get_image_grads` outputs an array containing the gradient at each pixel of the image"
   ],
   "metadata": {
    "collapsed": false
   }
  },
  {
   "cell_type": "code",
   "execution_count": null,
   "outputs": [],
   "source": [
    "def get_image_grads(img):\n",
    "    img_gray = cv2.cvtColor(img, cv2.COLOR_BGR2GRAY)\n",
    "    x_derivative = img_gray - np.roll(img_gray, 1, axis=0)\n",
    "    y_derivative = img_gray - np.roll(img_gray, 1, axis=1)\n",
    "    result = -np.sqrt(np.square(x_derivative) + np.square(y_derivative))\n",
    "    return result\n"
   ],
   "metadata": {
    "collapsed": false,
    "pycharm": {
     "name": "#%%\n"
    }
   }
  },
  {
   "cell_type": "markdown",
   "source": [
    "Next four functions are used to compute energies used in active contours.\n",
    "Their implementation is simple and based on the formulas for energies, so we don't explain them seprately:"
   ],
   "metadata": {
    "collapsed": false
   }
  },
  {
   "cell_type": "code",
   "execution_count": null,
   "outputs": [],
   "source": [
    "def calculate_external_energy(img_grads, contour):\n",
    "    e_external = 0\n",
    "    for point in contour:\n",
    "        e_external += img_grads[point[0], point[1]]\n",
    "    return -e_external\n",
    "\n",
    "\n",
    "def calculate_average_distance(contour):\n",
    "    shifted_contour = np.roll(contour, 1, axis=0)\n",
    "    d = np.average(np.sum(np.square(contour - shifted_contour), axis=1))\n",
    "    return d, shifted_contour\n",
    "\n",
    "\n",
    "def calculate_curvature(contour, shifted_contour):\n",
    "    shifted_contour2 = np.roll(shifted_contour, 1, axis=0)\n",
    "    matrix = contour - 2 * shifted_contour + shifted_contour2\n",
    "    d = np.sum(np.square(matrix))\n",
    "    return d\n",
    "\n",
    "\n",
    "def calculate_internal_energy(contour, alpha, beta):\n",
    "    d, shifted_contour = calculate_average_distance(contour)\n",
    "    curvature = calculate_curvature(contour, shifted_contour)\n",
    "    e_internal = alpha * np.sum(np.square(np.sum(np.square(contour - shifted_contour), axis=1) - d)) + beta * curvature\n",
    "    return e_internal\n",
    "\n",
    "\n",
    "def calculate_total_energy(img_grads, contour, alpha, beta, landa):\n",
    "    e_external = calculate_external_energy(img_grads, contour)\n",
    "    e_internal = calculate_internal_energy(contour, alpha, beta)\n",
    "    return e_internal + landa * e_external\n"
   ],
   "metadata": {
    "collapsed": false,
    "pycharm": {
     "name": "#%%\n"
    }
   }
  },
  {
   "cell_type": "markdown",
   "source": [
    "### Updating contour\n",
    "#### Method 1: Greedy algorithm\n",
    "first method for updating contour is greedy algorithm, which performs greedy search for each point in contour and finds the\n",
    "best point for each one :"
   ],
   "metadata": {
    "collapsed": false
   }
  },
  {
   "cell_type": "code",
   "execution_count": null,
   "outputs": [],
   "source": [
    "def update_contour_greedy(img_grads, contour, alpha, beta, landa, search_radius):\n",
    "    result, temp = contour.copy(), contour.copy()\n",
    "    e = calculate_total_energy(img_grads, result, alpha, beta, landa)\n",
    "    for i, point in enumerate(contour):\n",
    "        temp = result.copy()\n",
    "        for j in range(-search_radius, search_radius + 1):\n",
    "            for k in range(-search_radius, search_radius + 1):\n",
    "                temp[i] = [temp[i, 0] + j, temp[i, 1] + k]\n",
    "                e1 = calculate_total_energy(img_grads, temp, alpha, beta, landa)\n",
    "                if e1 < e:\n",
    "                    result[i] = temp[i]\n",
    "                    e = calculate_total_energy(img_grads, result, alpha, beta, landa)\n",
    "    return result"
   ],
   "metadata": {
    "collapsed": false,
    "pycharm": {
     "name": "#%%\n"
    }
   }
  },
  {
   "cell_type": "markdown",
   "source": [
    "Now we can use above function to greedily apply active contours on an image :\n",
    "( This function is not complete, since we don't use greedy algorithm for the actual problem )"
   ],
   "metadata": {
    "collapsed": false
   }
  },
  {
   "cell_type": "code",
   "execution_count": null,
   "outputs": [],
   "source": [
    "def active_contours_greedy(img, init_contour, alpha, beta, landa):\n",
    "    img_grads = get_image_grads(img)\n",
    "    initial_energy = calculate_total_energy(img_grads, init_contour, alpha, beta, landa)\n",
    "    contour = init_contour.copy()\n",
    "    for i in range(10):\n",
    "        contour = update_contour_greedy(img_grads, contour, alpha, beta, landa, 1)\n",
    "        plt.imshow(draw_contour(img, contour, (0, 255, 0)))\n",
    "        plt.show()\n",
    "    return contour"
   ],
   "metadata": {
    "collapsed": false,
    "pycharm": {
     "name": "#%%\n"
    }
   }
  },
  {
   "cell_type": "markdown",
   "source": [
    "#### Method 2: Dynamic Programming\n",
    "From here, we have functions ued for updating contour and performing\n",
    "active contours using DP\n"
   ],
   "metadata": {
    "collapsed": false
   }
  },
  {
   "cell_type": "markdown",
   "source": [
    "The first two functions are used to calculate energy between two consecutive points ( which is needed in DP)\n",
    "and finding the closest neighbor to a point, from the neighborhood of its previous point, and output its energy and index:"
   ],
   "metadata": {
    "collapsed": false
   }
  },
  {
   "cell_type": "code",
   "execution_count": null,
   "outputs": [],
   "source": [
    "def calculate_energy_between_points(point1, point2, img_grads, d, alpha, landa):\n",
    "    e1 = -landa * img_grads[point2[0], point2[1]]\n",
    "    e2 = alpha * np.square(np.sum(np.square(point1 - point2) - d))\n",
    "    return e1 + e2\n",
    "\n",
    "\n",
    "def find_closest_neighbor(current_points, previous_point, energies, i, search_radius, img_grads, d, alpha, landa):\n",
    "    index, energy = 0, float('inf')\n",
    "    t = 0\n",
    "    for j in range(-search_radius, search_radius + 1):\n",
    "        for k in range(-search_radius, search_radius + 1):\n",
    "            point = np.asarray([previous_point[0] + j, previous_point[1] + k])\n",
    "            e = calculate_energy_between_points(current_points, point, img_grads, d, alpha, landa) + energies[\n",
    "                i - 1, t]\n",
    "            if e < energy:\n",
    "                index = t\n",
    "                energy = e\n",
    "            t += 1\n",
    "    return index, energy"
   ],
   "metadata": {
    "collapsed": false,
    "pycharm": {
     "name": "#%%\n"
    }
   }
  },
  {
   "cell_type": "markdown",
   "source": [
    "Function `get_indices_energies_dp` performs DP on a given contour and outputs two n*m matrices: one containing the indices, which show\n",
    "the index of the point that each point corresponds to , and other containing the energies :"
   ],
   "metadata": {
    "collapsed": false
   }
  },
  {
   "cell_type": "code",
   "execution_count": null,
   "outputs": [],
   "source": [
    "def get_indices_energies_dp(img_grads, contour, alpha, landa, search_radius):\n",
    "    m = (2 * search_radius + 1) ** 2\n",
    "    n = float('inf')\n",
    "    result_indices, result_energies = np.zeros((contour.shape[0], m)), np.zeros((contour.shape[0], m))\n",
    "    d, shifted_contour = calculate_average_distance(contour)\n",
    "\n",
    "    for r in range(m):  # iterating over first point's neighborhood\n",
    "        temp_indices, temp_energies = np.zeros((contour.shape[0], m)), np.zeros((contour.shape[0], m))\n",
    "        x, y = -1 + int(r / (2 * search_radius + 1)), -1 + (r % (2 * search_radius + 1))\n",
    "        point = np.asarray([contour[0, 0] + x, contour[0, 1] + y])\n",
    "\n",
    "        for i in range(m):\n",
    "            temp_indices[1, i] = r\n",
    "            point2 = np.asarray([contour[1, 0] + x, contour[1, 1] + y])\n",
    "            temp_energies[1, i] = calculate_energy_between_points(point, point2, img_grads, d, alpha, landa)\n",
    "\n",
    "        for i in range(2, contour.shape[0]):  # iterating over contour points\n",
    "            t = 0\n",
    "            for j in range(-search_radius, search_radius + 1):\n",
    "                for k in range(-search_radius, search_radius + 1):\n",
    "                    current_point = np.asarray([contour[i, 0] + j, contour[i, 1] + k])\n",
    "                    previous_point = contour[i - 1].reshape(contour.shape[1], 1)\n",
    "                    next_index, next_energy = find_closest_neighbor(current_point,\n",
    "                                                                    previous_point,\n",
    "                                                                    temp_energies, i, search_radius, img_grads, d,\n",
    "                                                                    alpha,\n",
    "                                                                    landa)\n",
    "                    temp_indices[i, t] = next_index\n",
    "                    temp_energies[i, t] = next_energy\n",
    "                    t += 1\n",
    "        previous_point = contour[-1].reshape(contour.shape[1], 1)\n",
    "        index, energy = find_closest_neighbor(point, previous_point, temp_energies, contour.shape[0] - 1, search_radius,\n",
    "                                              img_grads, d, alpha, landa)\n",
    "\n",
    "        if energy < n:\n",
    "            n = energy\n",
    "            temp_energies[0, r] = energy\n",
    "            temp_indices[0, r] = index\n",
    "            result_energies = temp_energies.copy()\n",
    "            result_indices = temp_indices.copy()\n",
    "\n",
    "    return result_indices, result_energies"
   ],
   "metadata": {
    "collapsed": false,
    "pycharm": {
     "name": "#%%\n"
    }
   }
  },
  {
   "cell_type": "markdown",
   "source": [
    "Function `update_contour_dp` uses previous functions to update contour using DP :"
   ],
   "metadata": {
    "collapsed": false
   }
  },
  {
   "cell_type": "code",
   "execution_count": null,
   "outputs": [],
   "source": [
    "def update_contour_dp(contour, indices, search_radius):\n",
    "    result = np.zeros(contour.shape, dtype='int')\n",
    "    index = int(indices[1, 0])\n",
    "    index_n = int(indices[0, index])\n",
    "    x, y = -1 + int(index_n / (2 * search_radius + 1)), -1 + (index_n % (2 * search_radius + 1))\n",
    "    result[-1, 0], result[-1, 1] = contour[-1, 0] + x, contour[-1, 1] + y\n",
    "    for i in reversed(range(1, contour.shape[0])):\n",
    "        index_n = int(indices[i, index_n])\n",
    "        x, y = -1 + int(index_n / (2 * search_radius + 1)), -1 + (index_n % (2 * search_radius + 1))\n",
    "        result[i - 1, 0], result[i - 1, 1] = int(contour[i - 1, 0] + x), int(contour[i - 1, 1] + y)\n",
    "    return result\n"
   ],
   "metadata": {
    "collapsed": false,
    "pycharm": {
     "name": "#%%\n"
    }
   }
  },
  {
   "cell_type": "markdown",
   "source": [
    "Finally, function `active_contours_dp` performs active contours on an image and an initial contour using DP.\n",
    "Function outputs a list of images which are the result of drawing contour on the original image in each iteration."
   ],
   "metadata": {
    "collapsed": false
   }
  },
  {
   "cell_type": "code",
   "execution_count": null,
   "outputs": [],
   "source": [
    "def active_contours_dp(img, init_contour, alpha, beta, landa, num_of_iter=10):\n",
    "    img_grads = get_image_grads(img)\n",
    "    results = []\n",
    "    initial_energy = calculate_total_energy(img_grads, init_contour, alpha, beta, landa)\n",
    "    contour = init_contour.copy()\n",
    "    result = draw_contour(img, contour, (0, 0, 0))\n",
    "    results.append(result)\n",
    "\n",
    "    for i in range(num_of_iter):\n",
    "        indices, energies = get_indices_energies_dp(img_grads, contour, alpha, landa, 1)\n",
    "        contour = update_contour_dp(contour, indices, 1).astype('int')\n",
    "        result = draw_contour(img, contour, (0, 0, 0))\n",
    "        results.append(result)\n",
    "        # plt.imshow(draw_contour(img, contour, (0, 255, 0)))\n",
    "        # plt.show()\n",
    "\n",
    "    return results"
   ],
   "metadata": {
    "collapsed": false,
    "pycharm": {
     "name": "#%%\n"
    }
   }
  },
  {
   "cell_type": "markdown",
   "source": [
    "Function `generate_video` takes resulting frames, output path , frame size and fps and outputs a\n",
    "video created using the given parameters :"
   ],
   "metadata": {
    "collapsed": false
   }
  },
  {
   "cell_type": "code",
   "execution_count": null,
   "outputs": [],
   "source": [
    "def generate_video(results, output_path, size, fps):\n",
    "    video = cv2.VideoWriter(output_path, cv2.VideoWriter_fourcc(*'DIVX'), fps, size)\n",
    "    for img in results:\n",
    "        video.write(img)\n",
    "    video.release()\n",
    "\n"
   ],
   "metadata": {
    "collapsed": false,
    "pycharm": {
     "name": "#%%\n"
    }
   }
  },
  {
   "cell_type": "markdown",
   "source": [
    "### q5.py\n",
    "Now, we will use the functions implemented previously.\n",
    "\n",
    "First, we take initial contour points from user :"
   ],
   "metadata": {
    "collapsed": false
   }
  },
  {
   "cell_type": "code",
   "execution_count": null,
   "outputs": [],
   "source": [
    "import q5_funcs\n",
    "import matplotlib.pyplot as plt\n",
    "import numpy as np\n",
    "import cv2\n",
    "\n",
    "input_path = \"inputs/tasbih.jpg\"\n",
    "\n",
    "img = cv2.imread(input_path)\n",
    "\n",
    "contour = []\n",
    "\n",
    "\n",
    "def mouse_clicked(event, x, y, flags, param):\n",
    "    if event == cv2.EVENT_LBUTTONDOWN:\n",
    "        contour.append([y, x])\n",
    "\n",
    "\n",
    "cv2.imshow('img', img)\n",
    "cv2.setMouseCallback('img', mouse_clicked)\n",
    "cv2.waitKey()\n"
   ],
   "metadata": {
    "collapsed": false,
    "pycharm": {
     "name": "#%%\n"
    }
   }
  },
  {
   "cell_type": "markdown",
   "source": [
    "Then, we expand points in contour and apply active contours, get the frames and save the video :"
   ],
   "metadata": {
    "collapsed": false
   }
  },
  {
   "cell_type": "code",
   "execution_count": null,
   "outputs": [],
   "source": [
    "contour = q5_funcs.expand_contour(contour, 20)\n",
    "contour = np.asarray(contour, dtype='int32')\n",
    "print(contour.shape)\n",
    "results = q5_funcs.active_contours_dp(img, contour, 0.0001, 1, 1, 15)\n",
    "q5_funcs.generate_video(results, \"outputs/video.mp4\", (img.shape[1], img.shape[0]), 3)\n"
   ],
   "metadata": {
    "collapsed": false,
    "pycharm": {
     "name": "#%%\n"
    }
   }
  }
 ],
 "metadata": {
  "kernelspec": {
   "display_name": "Python 3",
   "language": "python",
   "name": "python3"
  },
  "language_info": {
   "codemirror_mode": {
    "name": "ipython",
    "version": 2
   },
   "file_extension": ".py",
   "mimetype": "text/x-python",
   "name": "python",
   "nbconvert_exporter": "python",
   "pygments_lexer": "ipython2",
   "version": "2.7.6"
  }
 },
 "nbformat": 4,
 "nbformat_minor": 0
}