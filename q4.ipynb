{
 "cells": [
  {
   "cell_type": "markdown",
   "metadata": {
    "collapsed": true,
    "pycharm": {
     "name": "#%% md\n"
    }
   },
   "source": [
    "## Question 4: Segmentation\n",
    "\n",
    "In this question, we perform segmentation on a given image in order to\n",
    "extract segment that belong to pigeons. As always, functions are written in\n",
    "`q4_funcs.py` and main code that uses these functions is in\n",
    "`q4.py`"
   ]
  },
  {
   "cell_type": "markdown",
   "source": [
    "### q4_funcs\n",
    "\n",
    "Different methods of segmentation is implemented in this file, but since we have used Felzenszwalb method\n",
    "in the main problem, we will just explain that part :"
   ],
   "metadata": {
    "collapsed": false
   }
  },
  {
   "cell_type": "markdown",
   "source": [
    "Function `get_feature_vectors` gets an image as input and\n",
    "outputs feature vectors used for checking similarities. In this problem, we just give the original BGR\n",
    "image as feature vector :"
   ],
   "metadata": {
    "collapsed": false
   }
  },
  {
   "cell_type": "code",
   "execution_count": null,
   "outputs": [],
   "source": [
    "import matplotlib.pyplot as plt\n",
    "import numpy as np\n",
    "import cv2\n",
    "from skimage.segmentation import mark_boundaries\n",
    "from skimage.segmentation import slic, felzenszwalb\n",
    "\n",
    "def get_feature_vectors(img):\n",
    "    # lab_vectors = cv2.cvtColor(img, cv2.COLOR_BGR2HSV)\n",
    "    lab_vectors = img.copy()\n",
    "    return lab_vectors"
   ],
   "metadata": {
    "collapsed": false,
    "pycharm": {
     "name": "#%%\n"
    }
   }
  },
  {
   "cell_type": "markdown",
   "source": [
    "Function `segment_felzenszwalb` takes an image and other parameters used in Felzenszwalb and returns\n",
    "segmented result along with labels"
   ],
   "metadata": {
    "collapsed": false
   }
  },
  {
   "cell_type": "code",
   "execution_count": null,
   "outputs": [],
   "source": [
    "def segment_felzenszwalb(img, scale, sigma, min_size):\n",
    "    labels = felzenszwalb(img, scale, sigma, min_size)\n",
    "    result = mark_boundaries(img, labels, color=(0, 0, 0))\n",
    "    return result, labels\n"
   ],
   "metadata": {
    "collapsed": false,
    "pycharm": {
     "name": "#%%\n"
    }
   }
  },
  {
   "cell_type": "markdown",
   "source": [
    "Next function takes a super pixel and a sample, and check how much they are similar.\n",
    "For checking, we take the feature vectors of the pixels in the given super pixel, calculate their average, and\n",
    "compare it with the given sample:"
   ],
   "metadata": {
    "collapsed": false
   }
  },
  {
   "cell_type": "code",
   "execution_count": null,
   "outputs": [],
   "source": [
    "def check_similarity(lab_vectors, super_pixel, sample, threshold):\n",
    "    super_pixel_value = np.average(np.average(lab_vectors[super_pixel], axis=0), axis=0)\n",
    "    diff = np.sqrt(np.sum(np.square(sample - super_pixel_value)))\n",
    "    print(diff)\n",
    "    if diff < threshold:\n",
    "        return True\n",
    "    return False\n"
   ],
   "metadata": {
    "collapsed": false,
    "pycharm": {
     "name": "#%%\n"
    }
   }
  },
  {
   "cell_type": "markdown",
   "source": [
    "Finally, function `find_matches` takes an image, feature vectors, labels and sample as\n",
    "input and outputs an array matches, containing the label of the matched clusters and\n",
    "a result, which is the image with similar super pixels being black :"
   ],
   "metadata": {
    "collapsed": false
   }
  },
  {
   "cell_type": "code",
   "execution_count": null,
   "outputs": [],
   "source": [
    "def find_matches(img, lab_vectors, labels, sample):\n",
    "    result = img.copy()\n",
    "    matches = []\n",
    "    m, n = np.min(labels), np.max(labels)\n",
    "    print(m, n)\n",
    "    for i in range(m, n + 1):\n",
    "        super_pixel_i = np.where(labels == i)\n",
    "        if check_similarity(lab_vectors, super_pixel_i, sample, 50):\n",
    "            matches.append(i)\n",
    "            result[super_pixel_i] = 0\n",
    "    return matches, result"
   ],
   "metadata": {
    "collapsed": false,
    "pycharm": {
     "name": "#%%\n"
    }
   }
  },
  {
   "cell_type": "markdown",
   "source": [
    "### q1.py\n",
    "In main code, we have sample vector computed by hand ( by taking some samples from\n",
    "a pigeon in the image and computing their average), and we take only a part of image that contains all the\n",
    "pigeons, and use above functions to find pigeons :"
   ],
   "metadata": {
    "collapsed": false
   }
  },
  {
   "cell_type": "code",
   "execution_count": null,
   "outputs": [],
   "source": [
    "import q4_funcs\n",
    "import matplotlib.pyplot as plt\n",
    "import numpy as np\n",
    "import cv2\n",
    "from skimage.segmentation import mark_boundaries\n",
    "from skimage.segmentation import slic, felzenszwalb\n",
    "\n",
    "input_path = \"inputs/birds.jpg\"\n",
    "output_path = \"outputs/res10.jpg\"\n",
    "img = cv2.imread(input_path)\n",
    "\n",
    "result, labels = q4_funcs.segment_felzenszwalb(img, 1000, 0.6, 100)\n",
    "\n",
    "lab_vectors = q4_funcs.get_feature_vectors(img)\n",
    "\n",
    "# sample_img = img[1910:2020, 2200:2275, :]\n",
    "# result1, labels1 = q4_funcs.segment_felzenszwalb(sample_img, 800, 0.6, 100)\n",
    "# plt.imshow(result1)\n",
    "# plt.show()\n",
    "\n",
    "sample = np.asarray([97, 103, 109])\n",
    "# sample = q4_funcs.calculate_sample_value(lab_vectors, 1910, 2200, 110, 75)\n",
    "matches, result = q4_funcs.find_matches(img[1500:2350, 220:, :], lab_vectors[1500:2350, 220:, :],\n",
    "                                        labels[1500:2350, 220:],\n",
    "                                        sample)\n",
    "# q4_funcs.draw_rectangles(result, labels, matches, (110, 75), (1500, 220))\n",
    "plt.imshow(result)\n",
    "plt.show()\n",
    "img_copy = img[1500:2350, 220:, :].copy()\n",
    "mask = np.where(result == 0)\n",
    "img_copy[result != 0] = 0\n",
    "\n",
    "plt.imshow(img_copy)\n",
    "plt.show()\n",
    "final_result = np.zeros(img.shape, dtype='uint8')\n",
    "final_result[1500:2350, 220:, :] = img_copy\n",
    "cv2.imwrite(output_path, final_result)"
   ],
   "metadata": {
    "collapsed": false,
    "pycharm": {
     "name": "#%%\n"
    }
   }
  }
 ],
 "metadata": {
  "kernelspec": {
   "display_name": "Python 3",
   "language": "python",
   "name": "python3"
  },
  "language_info": {
   "codemirror_mode": {
    "name": "ipython",
    "version": 2
   },
   "file_extension": ".py",
   "mimetype": "text/x-python",
   "name": "python",
   "nbconvert_exporter": "python",
   "pygments_lexer": "ipython2",
   "version": "2.7.6"
  }
 },
 "nbformat": 4,
 "nbformat_minor": 0
}